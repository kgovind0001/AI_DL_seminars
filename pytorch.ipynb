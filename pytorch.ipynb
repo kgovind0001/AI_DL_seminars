{
 "cells": [
  {
   "cell_type": "markdown",
   "id": "7af5ad82",
   "metadata": {},
   "source": [
    "Introduction to pytorch"
   ]
  },
  {
   "cell_type": "code",
   "execution_count": 152,
   "id": "4878b44a",
   "metadata": {},
   "outputs": [
    {
     "name": "stdout",
     "output_type": "stream",
     "text": [
      "1.8.1+cu111\n"
     ]
    }
   ],
   "source": [
    "import torch\n",
    "import numpy as np\n",
    "import matplotlib.pyplot as plt\n",
    "print(torch.__version__)"
   ]
  },
  {
   "cell_type": "code",
   "execution_count": 118,
   "id": "bff7a5e9",
   "metadata": {},
   "outputs": [
    {
     "name": "stdout",
     "output_type": "stream",
     "text": [
      "(2, 2) <class 'numpy.ndarray'>\n"
     ]
    }
   ],
   "source": [
    "# Create numpy array \n",
    "data = [[1, 2],[3, 4]]\n",
    "np_data = np.array(data)\n",
    "\n",
    "print(np_data.shape , type(np_data))"
   ]
  },
  {
   "cell_type": "markdown",
   "id": "016d49b0",
   "metadata": {},
   "source": [
    "Tensors are similar to NumPy’s ndarrays, except that tensors can run on GPUs or other hardware accelerators. In fact, tensors and NumPy arrays can often share the same underlying memory, eliminating the need to copy data"
   ]
  },
  {
   "cell_type": "markdown",
   "id": "be9df7e1",
   "metadata": {},
   "source": [
    "# 3 ways to create a tensor "
   ]
  },
  {
   "cell_type": "markdown",
   "id": "a821bf57",
   "metadata": {},
   "source": [
    "Directly from tensor "
   ]
  },
  {
   "cell_type": "code",
   "execution_count": 122,
   "id": "2abca2f6",
   "metadata": {},
   "outputs": [
    {
     "name": "stdout",
     "output_type": "stream",
     "text": [
      "tensor([[1, 2],\n",
      "        [3, 4]]) torch.Size([2, 2])\n"
     ]
    }
   ],
   "source": [
    "data = [[1, 2],[3, 4]]\n",
    "x_data = torch.tensor(data)\n",
    "\n",
    "print(x_data , x_data.shape )"
   ]
  },
  {
   "cell_type": "markdown",
   "id": "4fc32af5",
   "metadata": {},
   "source": [
    "from another numpy array "
   ]
  },
  {
   "cell_type": "code",
   "execution_count": 123,
   "id": "425e2fa1",
   "metadata": {},
   "outputs": [
    {
     "name": "stdout",
     "output_type": "stream",
     "text": [
      "tensor([[1, 2],\n",
      "        [3, 4]]) torch.Size([2, 2])\n"
     ]
    }
   ],
   "source": [
    "x_data = torch.tensor(np_data)\n",
    "print(x_data , x_data.shape )"
   ]
  },
  {
   "cell_type": "markdown",
   "id": "7508cc62",
   "metadata": {},
   "source": [
    "from another tensor"
   ]
  },
  {
   "cell_type": "code",
   "execution_count": 124,
   "id": "7e5a8c96",
   "metadata": {},
   "outputs": [
    {
     "name": "stdout",
     "output_type": "stream",
     "text": [
      "Ones Tensor: \n",
      " tensor([[1, 1],\n",
      "        [1, 1]]) \n",
      "\n",
      "Random Tensor: \n",
      " tensor([[0.6336, 0.9838],\n",
      "        [0.1960, 0.6049]]) \n",
      "\n"
     ]
    }
   ],
   "source": [
    "x_ones = torch.ones_like(x_data) # retains the properties of x_data\n",
    "print(f\"Ones Tensor: \\n {x_ones} \\n\")\n",
    "\n",
    "x_rand = torch.rand_like(x_data, dtype=torch.float) # overrides the datatype of x_data\n",
    "print(f\"Random Tensor: \\n {x_rand} \\n\")"
   ]
  },
  {
   "cell_type": "code",
   "execution_count": 138,
   "id": "2f79c0de",
   "metadata": {},
   "outputs": [
    {
     "name": "stdout",
     "output_type": "stream",
     "text": [
      "Shape of tensor: torch.Size([2, 2])\n",
      "Datatype of tensor: torch.float32\n",
      "Device tensor is stored on: cuda:0\n"
     ]
    }
   ],
   "source": [
    "# some attributes of tensor\n",
    "\n",
    "print(f\"Shape of tensor: {x_rand.shape}\")\n",
    "print(f\"Datatype of tensor: {x_rand.dtype}\")\n",
    "print(f\"Device tensor is stored on: {x_rand.device}\")"
   ]
  },
  {
   "cell_type": "markdown",
   "id": "ec33fa87",
   "metadata": {},
   "source": [
    "## Tensor operations "
   ]
  },
  {
   "cell_type": "code",
   "execution_count": 139,
   "id": "bf470d91",
   "metadata": {},
   "outputs": [
    {
     "data": {
      "text/plain": [
       "tensor([[4.0143e-01, 9.6781e-01],\n",
       "        [3.8412e-02, 1.0000e+04]], device='cuda:0')"
      ]
     },
     "execution_count": 139,
     "metadata": {},
     "output_type": "execute_result"
    }
   ],
   "source": [
    "x_rand*x_rand # elementwise multiplication"
   ]
  },
  {
   "cell_type": "code",
   "execution_count": 140,
   "id": "d89435e1",
   "metadata": {},
   "outputs": [
    {
     "data": {
      "text/plain": [
       "tensor([[ 0.5920,  0.8326],\n",
       "        [ 0.1947, -0.5064]], device='cuda:0')"
      ]
     },
     "execution_count": 140,
     "metadata": {},
     "output_type": "execute_result"
    }
   ],
   "source": [
    "x_rand.sin() # sine of each element of tensor"
   ]
  },
  {
   "cell_type": "code",
   "execution_count": 146,
   "id": "46ae847e",
   "metadata": {},
   "outputs": [
    {
     "data": {
      "text/plain": [
       "tensor([[  1.2672,   1.9675,   0.3920, 200.0000]], device='cuda:0')"
      ]
     },
     "execution_count": 146,
     "metadata": {},
     "output_type": "execute_result"
    }
   ],
   "source": [
    "x_rand.add(x_rand).view(1,4)"
   ]
  },
  {
   "cell_type": "markdown",
   "id": "f7457e25",
   "metadata": {},
   "source": [
    "# Why use tensor at all \n",
    "\n",
    "1. We can use GPU for computations (x50)\n",
    "2. Allows us to generate a computional graph and create gradient"
   ]
  },
  {
   "cell_type": "code",
   "execution_count": 133,
   "id": "12ccb563",
   "metadata": {},
   "outputs": [
    {
     "name": "stdout",
     "output_type": "stream",
     "text": [
      "Device tensor is stored on: cuda:0\n"
     ]
    }
   ],
   "source": [
    "x_rand = x_rand.to(\"cuda\") # moving tensor to gpu \n",
    "print(f\"Device tensor is stored on: {x_rand.device}\")"
   ]
  },
  {
   "cell_type": "code",
   "execution_count": 137,
   "id": "18a98706",
   "metadata": {},
   "outputs": [
    {
     "name": "stdout",
     "output_type": "stream",
     "text": [
      "gradient calculation wrt to tensor: False\n"
     ]
    },
    {
     "data": {
      "text/plain": [
       "tensor([[  0.6336,   0.9838],\n",
       "        [  0.1960, 100.0000]], device='cuda:0')"
      ]
     },
     "execution_count": 137,
     "metadata": {},
     "output_type": "execute_result"
    }
   ],
   "source": [
    "print(f\"gradient calculation wrt to tensor: {x_rand.requires_grad}\")\n",
    "\n",
    "x_rand[1,1] = 100 # \n",
    "x_rand"
   ]
  },
  {
   "cell_type": "markdown",
   "id": "d97d950e",
   "metadata": {},
   "source": [
    "#### Gradients wrt to scalers "
   ]
  },
  {
   "cell_type": "code",
   "execution_count": 202,
   "id": "1848cd9a",
   "metadata": {},
   "outputs": [
    {
     "data": {
      "text/plain": [
       "(tensor(-0.0043, dtype=torch.float64), tensor(-4., dtype=torch.float64))"
      ]
     },
     "execution_count": 202,
     "metadata": {},
     "output_type": "execute_result"
    }
   ],
   "source": [
    "x = torch.tensor(0.6, dtype=torch.float64,requires_grad = True)\n",
    "z = torch.tensor(2.6, dtype=torch.float64,requires_grad = True)\n",
    "y = torch.sin(x)*x + 0.004*x**5 - x**3\n",
    "y = y**2 - 4*z + 34\n",
    "y.backward()\n",
    "x.grad , z.grad"
   ]
  },
  {
   "cell_type": "code",
   "execution_count": 174,
   "id": "7f185697",
   "metadata": {},
   "outputs": [
    {
     "name": "stdout",
     "output_type": "stream",
     "text": [
      "gradient calculation wrt to tensor: True\n",
      "tensor(15834.7197, device='cuda:0', grad_fn=<MulBackward0>) torch.Size([])\n"
     ]
    }
   ],
   "source": [
    "x_rand.requires_grad = True\n",
    "print(f\"gradient calculation wrt to tensor: {x_rand.requires_grad}\")\n",
    "\n",
    "y1 = x_rand.view(-1)*x_rand.view(4,1)\n",
    "y1 = y1.norm()\n",
    "\n",
    "y2 = x_rand.inverse()\n",
    "y = y1*y2.norm()\n",
    "print(y , y.shape)"
   ]
  },
  {
   "cell_type": "code",
   "execution_count": 175,
   "id": "14d2e5e0",
   "metadata": {},
   "outputs": [],
   "source": [
    "y.backward() # Computes the gradient of current tensor"
   ]
  },
  {
   "cell_type": "code",
   "execution_count": 176,
   "id": "fa493d66",
   "metadata": {},
   "outputs": [
    {
     "data": {
      "text/plain": [
       "tensor([[-25060.2402,     57.7631],\n",
       "        [   248.2798,    716.1440]], device='cuda:0')"
      ]
     },
     "execution_count": 176,
     "metadata": {},
     "output_type": "execute_result"
    }
   ],
   "source": [
    "x_rand.grad # gradients "
   ]
  },
  {
   "cell_type": "markdown",
   "id": "c48d1018",
   "metadata": {},
   "source": [
    "##  We have 3 components to consider"
   ]
  },
  {
   "cell_type": "code",
   "execution_count": 154,
   "id": "2ae61121",
   "metadata": {},
   "outputs": [
    {
     "name": "stdout",
     "output_type": "stream",
     "text": [
      "torch.Size([2000])\n"
     ]
    }
   ],
   "source": [
    "# Source https://pytorch.org/tutorials/beginner/pytorch_with_examples.html\n",
    "# input \n",
    "\n",
    "dtype = torch.float\n",
    "device = torch.device(\"cpu\")\n",
    "\n",
    "x = torch.linspace(-np.pi, np.pi, 2000, device=device, dtype=dtype)\n",
    "print(x.shape )"
   ]
  },
  {
   "cell_type": "code",
   "execution_count": 155,
   "id": "74f52b5a",
   "metadata": {},
   "outputs": [
    {
     "data": {
      "text/plain": [
       "[<matplotlib.lines.Line2D at 0x7fd99fce2f40>]"
      ]
     },
     "execution_count": 155,
     "metadata": {},
     "output_type": "execute_result"
    },
    {
     "data": {
      "image/png": "[encoded data removed]",
      "text/plain": [
       "<Figure size 432x288 with 1 Axes>"
      ]
     },
     "metadata": {
      "needs_background": "light"
     },
     "output_type": "display_data"
    }
   ],
   "source": [
    "# output \n",
    "\n",
    "y = x.sin() # sin of each element\n",
    "\n",
    "plt.plot(x,y,\"ro\")"
   ]
  },
  {
   "cell_type": "markdown",
   "id": "2bf1192b",
   "metadata": {},
   "source": [
    "objective is to define a model to represent such data. In most cases we dont know the output functions. The model should be able to give us the output given an input. \n",
    "\n",
    "##### How do we know if it is the right model \n",
    "To measure the quality of model, we have to define a value such that it is lowest when we get to the best model "
   ]
  },
  {
   "cell_type": "code",
   "execution_count": null,
   "id": "d6f2306b",
   "metadata": {},
   "outputs": [],
   "source": [
    "# parameters of models \n",
    "\n",
    "\n",
    "dtype = torch.float\n",
    "device = torch.device(\"cpu\")\n",
    "# device = torch.device(\"cuda:0\")  # Uncomment this to run on GPU\n",
    "\n",
    "# Create Tensors to hold input and outputs.\n",
    "# By default, requires_grad=False, which indicates that we do not need to\n",
    "# compute gradients with respect to these Tensors during the backward pass.\n",
    "x = torch.linspace(-math.pi, math.pi, 2000, device=device, dtype=dtype)\n",
    "y = torch.sin(x)\n",
    "\n",
    "# Create random Tensors for weights. For a third order polynomial, we need\n",
    "# 4 weights: y = a + b x + c x^2 + d x^3\n",
    "# Setting requires_grad=True indicates that we want to compute gradients with\n",
    "# respect to these Tensors during the backward pass.\n",
    "a = torch.randn((), device=device, dtype=dtype, requires_grad=True)\n",
    "b = torch.randn((), device=device, dtype=dtype, requires_grad=True)\n",
    "c = torch.randn((), device=device, dtype=dtype, requires_grad=True)\n",
    "d = torch.randn((), device=device, dtype=dtype, requires_grad=True)\n",
    "\n",
    "learning_rate = 1e-6\n",
    "for t in range(2000):\n",
    "    # Forward pass: compute predicted y using operations on Tensors.\n",
    "    y_pred = a + b * x + c * x ** 2 + d * x ** 3\n",
    "\n",
    "    # Compute and print loss using operations on Tensors.\n",
    "    # Now loss is a Tensor of shape (1,)\n",
    "    # loss.item() gets the scalar value held in the loss.\n",
    "    loss = (y_pred - y).pow(2).sum()\n",
    "    if t % 100 == 99:\n",
    "        print(t, loss.item())\n",
    "\n",
    "    # Use autograd to compute the backward pass. This call will compute the\n",
    "    # gradient of loss with respect to all Tensors with requires_grad=True.\n",
    "    # After this call a.grad, b.grad. c.grad and d.grad will be Tensors holding\n",
    "    # the gradient of the loss with respect to a, b, c, d respectively.\n",
    "    loss.backward()\n",
    "\n",
    "    # Manually update weights using gradient descent. Wrap in torch.no_grad()\n",
    "    # because weights have requires_grad=True, but we don't need to track this\n",
    "    # in autograd.\n",
    "    with torch.no_grad():\n",
    "        a -= learning_rate * a.grad\n",
    "        b -= learning_rate * b.grad\n",
    "        c -= learning_rate * c.grad\n",
    "        d -= learning_rate * d.grad\n",
    "\n",
    "        # Manually zero the gradients after updating weights\n",
    "        a.grad = None\n",
    "        b.grad = None\n",
    "        c.grad = None\n",
    "        d.grad = None\n",
    "\n",
    "print(f'Result: y = {a.item()} + {b.item()} x + {c.item()} x^2 + {d.item()} x^3')"
   ]
  },
  {
   "cell_type": "code",
   "execution_count": 210,
   "id": "e722a8c4",
   "metadata": {},
   "outputs": [
    {
     "name": "stdout",
     "output_type": "stream",
     "text": [
      "<generator object Module.parameters at 0x7fd99f354a50>\n",
      "Result: y = -0.4730863571166992 + 0.1815604269504547 x + -0.31515631079673767 x^2 + 0.19463685154914856 x^3\n"
     ]
    }
   ],
   "source": [
    "# Create Tensors to hold input and outputs.\n",
    "x = torch.linspace(-np.pi, np.pi, 2000)\n",
    "y = torch.sin(x)\n",
    "\n",
    "# For this example, the output y is a linear function of (x, x^2, x^3), so\n",
    "# we can consider it as a linear layer neural network. Let's prepare the\n",
    "# tensor (x, x^2, x^3).\n",
    "p = torch.tensor([1, 2, 3])\n",
    "xx = x.unsqueeze(-1).pow(p)\n",
    "# In the above code, x.unsqueeze(-1) has shape (2000, 1), and p has shape\n",
    "# (3,), for this case, broadcasting semantics will apply to obtain a tensor\n",
    "# of shape (2000, 3) \n",
    "\n",
    "# Use the nn package to define our model as a sequence of layers. nn.Sequential\n",
    "# is a Module which contains other Modules, and applies them in sequence to\n",
    "# produce its output. The Linear Module computes output from input using a\n",
    "# linear function, and holds internal Tensors for its weight and bias.\n",
    "# The Flatten layer flatens the output of the linear layer to a 1D tensor,\n",
    "# to match the shape of `y`.\n",
    "model = torch.nn.Sequential(\n",
    "    torch.nn.Linear(3, 1),\n",
    "    torch.nn.Flatten(0, 1)\n",
    ")\n",
    "\n",
    "# The nn package also contains definitions of popular loss functions; in this\n",
    "# case we will use Mean Squared Error (MSE) as our loss function.\n",
    "loss_fn = torch.nn.MSELoss(reduction='sum')\n",
    "\n",
    "learning_rate = 1e-6\n",
    "for t in range(1):\n",
    "\n",
    "    # Forward pass: compute predicted y by passing x to the model. Module objects\n",
    "    # override the __call__ operator so you can call them like functions. When\n",
    "    # doing so you pass a Tensor of input data to the Module and it produces\n",
    "    # a Tensor of output data.\n",
    "    y_pred = model(xx)\n",
    "    # Compute and print loss. We pass Tensors containing the predicted and true\n",
    "    # values of y, and the loss function returns a Tensor containing the\n",
    "    # loss.\n",
    "    loss = loss_fn(y_pred, y)\n",
    "    if t % 100 == 99:\n",
    "        print(t, loss.item())\n",
    "\n",
    "    # Zero the gradients before running the backward pass.\n",
    "    model.zero_grad()\n",
    "\n",
    "    # Backward pass: compute gradient of the loss with respect to all the learnable\n",
    "    # parameters of the model. Internally, the parameters of each Module are stored\n",
    "    # in Tensors with requires_grad=True, so this call will compute gradients for\n",
    "    # all learnable parameters in the model.\n",
    "    loss.backward()\n",
    "\n",
    "    # Update the weights using gradient descent. Each parameter is a Tensor, so\n",
    "    # we can access its gradients like we did before.\n",
    "    with torch.no_grad():\n",
    "        for param in model.parameters():\n",
    "            param -= learning_rate * param.grad\n",
    "\n",
    "# You can access the first layer of `model` like accessing the first item of a list\n",
    "linear_layer = model[0]\n",
    "\n",
    "# For linear layer, its parameters are stored as `weight` and `bias`.\n",
    "print(f'Result: y = {linear_layer.bias.item()} + {linear_layer.weight[:, 0].item()} x + {linear_layer.weight[:, 1].item()} x^2 + {linear_layer.weight[:, 2].item()} x^3')"
   ]
  },
  {
   "cell_type": "markdown",
   "id": "2fef0f40",
   "metadata": {},
   "source": [
    "Sources \n",
    "\n",
    "https://www.javatpoint.com/pytorch-vs-tensorflow"
   ]
  },
  {
   "cell_type": "code",
   "execution_count": null,
   "id": "c4961180",
   "metadata": {},
   "outputs": [],
   "source": []
  }
 ],
 "metadata": {
  "kernelspec": {
   "display_name": "Python 3",
   "language": "python",
   "name": "python3"
  },
  "language_info": {
   "codemirror_mode": {
    "name": "ipython",
    "version": 3
   },
   "file_extension": ".py",
   "mimetype": "text/x-python",
   "name": "python",
   "nbconvert_exporter": "python",
   "pygments_lexer": "ipython3",
   "version": "3.8.10"
  }
 },
 "nbformat": 4,
 "nbformat_minor": 5
}
